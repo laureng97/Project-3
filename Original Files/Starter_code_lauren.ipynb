{
 "cells": [
  {
   "cell_type": "code",
   "execution_count": 4,
   "id": "99f7ea99-0906-4d19-b37a-853727cc45ee",
   "metadata": {},
   "outputs": [],
   "source": [
    "import pandas as pd"
   ]
  },
  {
   "cell_type": "code",
   "execution_count": 2,
   "id": "ee28d104-a4f1-4f60-812b-4a24b2658506",
   "metadata": {},
   "outputs": [],
   "source": [
    "# Load CSV files\n",
    "capitals_df = pd.read_csv(\"capital_cities.csv\")\n",
    "emissions_df = pd.read_csv('greenhouse_emission.csv')\n",
    "surface_temps_df = pd.read_csv('annual_surface_temps.csv')\n",
    "global_data_df = pd.read_csv('global_data.csv')"
   ]
  },
  {
   "cell_type": "code",
   "execution_count": 3,
   "id": "87f81d5f-7a4c-46db-aa89-229b5a99083a",
   "metadata": {},
   "outputs": [],
   "source": [
    "# Table 1: Merge Capitals and Emissions (no dropping yet)\n",
    "table1 = pd.merge(capitals_df, emissions_df, on='country', how='inner')"
   ]
  },
  {
   "cell_type": "code",
   "execution_count": 6,
   "id": "a9cb35da-bd7f-4e56-8b48-4d4dad8529b7",
   "metadata": {},
   "outputs": [],
   "source": [
    "# Table 2: Merge Surface Temps and Global Data (no dropping yet)\n",
    "table2 = pd.merge(surface_temps_df, global_data_df, on='Country', how='inner')"
   ]
  },
  {
   "cell_type": "code",
   "execution_count": 7,
   "id": "90f9d4ec-69b4-442b-bca0-e71836d26640",
   "metadata": {},
   "outputs": [
    {
     "name": "stdout",
     "output_type": "stream",
     "text": [
      "Table 1 (Capitals and Emissions) before dropping missing values:\n",
      "    continent        country capital_city  capital_population   total_co2  \\\n",
      "0      Europe        Albania       Tirana              418495    4.83 m t   \n",
      "1      Europe        Austria       Vienna             1911191   64.77 m t   \n",
      "2      Europe        Belgium     Brussels             1175173   93.01 m t   \n",
      "3      Europe       Bulgaria        Sofia             1241675   39.14 m t   \n",
      "4      Europe        Croatia       Zagreb              792875   16.52 m t   \n",
      "..        ...            ...          ...                 ...         ...   \n",
      "95     Africa          Sudan     Khartoum              639598   20.62 m t   \n",
      "96     Africa       Zimbabwe       Harare             3120917   11.76 m t   \n",
      "97  Australia      Australia     Canberra              411667  386.53 m t   \n",
      "98  Australia    New Zealand   Wellington              209000   34.01 m t   \n",
      "99    Oceania  New Caledonia       Nouméa              100237    5.33 m t   \n",
      "\n",
      "   co2_per_capita total_methane methane_per_capita  \n",
      "0          1.72 t      2.85 m t             1.01 t  \n",
      "1          7.23 t      6.92 m t             0.77 t  \n",
      "2          8.03 t      8.08 m t             0.70 t  \n",
      "3          5.67 t      6.84 m t             0.99 t  \n",
      "4          4.24 t      3.68 m t             0.94 t  \n",
      "..            ...           ...                ...  \n",
      "95         0.46 t     55.38 m t             1.23 t  \n",
      "96         0.78 t     12.55 m t             0.83 t  \n",
      "97        15.02 t    126.07 m t             4.90 t  \n",
      "98         6.64 t     32.52 m t             6.35 t  \n",
      "99        19.54 t  214,726.32 t             0.79 t  \n",
      "\n",
      "[100 rows x 8 columns]\n"
     ]
    }
   ],
   "source": [
    "# Display the tables before dropping missing values\n",
    "print(\"Table 1 (Capitals and Emissions) before dropping missing values:\")\n",
    "print(table1)  # or display the full table with print(table1)\n"
   ]
  },
  {
   "cell_type": "code",
   "execution_count": 8,
   "id": "74694d38-e425-4fc3-90c9-f285c5e19d0c",
   "metadata": {},
   "outputs": [
    {
     "name": "stdout",
     "output_type": "stream",
     "text": [
      "\n",
      "Table 2 (Surface Temps and Global Data) before dropping missing values:\n",
      "       Country ISO2  F1961  F1962  F1963  F1964  F1965  F1966  F1967  F1968  \\\n",
      "0      Albania   AL  0.627  0.326  0.075 -0.166 -0.388  0.559 -0.074  0.081   \n",
      "1      Albania   AL  0.627  0.326  0.075 -0.166 -0.388  0.559 -0.074  0.081   \n",
      "2      Albania   AL  0.627  0.326  0.075 -0.166 -0.388  0.559 -0.074  0.081   \n",
      "3      Albania   AL  0.627  0.326  0.075 -0.166 -0.388  0.559 -0.074  0.081   \n",
      "4      Albania   AL  0.627  0.326  0.075 -0.166 -0.388  0.559 -0.074  0.081   \n",
      "...        ...  ...    ...    ...    ...    ...    ...    ...    ...    ...   \n",
      "2431  Zimbabwe   ZW  0.267  0.237 -0.458 -0.097 -0.480  0.215 -0.043  0.093   \n",
      "2432  Zimbabwe   ZW  0.267  0.237 -0.458 -0.097 -0.480  0.215 -0.043  0.093   \n",
      "2433  Zimbabwe   ZW  0.267  0.237 -0.458 -0.097 -0.480  0.215 -0.043  0.093   \n",
      "2434  Zimbabwe   ZW  0.267  0.237 -0.458 -0.097 -0.480  0.215 -0.043  0.093   \n",
      "2435  Zimbabwe   ZW  0.267  0.237 -0.458 -0.097 -0.480  0.215 -0.043  0.093   \n",
      "\n",
      "      ...  Primary energy consumption per capita (kWh/person)  \\\n",
      "0     ...                                          9029.4375    \n",
      "1     ...                                          8635.5320    \n",
      "2     ...                                          9443.5550    \n",
      "3     ...                                         10756.6120    \n",
      "4     ...                                         11586.9510    \n",
      "...   ...                                                ...    \n",
      "2431  ...                                          3227.6802    \n",
      "2432  ...                                          3068.0115    \n",
      "2433  ...                                          3441.9858    \n",
      "2434  ...                                          3003.6553    \n",
      "2435  ...                                          2680.1318    \n",
      "\n",
      "      Energy intensity level of primary energy (MJ/$2017 PPP GDP)  \\\n",
      "0                                                  4.13             \n",
      "1                                                  3.89             \n",
      "2                                                  4.10             \n",
      "3                                                  3.80             \n",
      "4                                                  3.96             \n",
      "...                                                 ...             \n",
      "2431                                              10.00             \n",
      "2432                                               9.51             \n",
      "2433                                               9.83             \n",
      "2434                                              10.47             \n",
      "2435                                              10.00             \n",
      "\n",
      "      Value_co2_emissions_kt_by_country  \\\n",
      "0                           3170.000000   \n",
      "1                           3230.000000   \n",
      "2                           3759.999990   \n",
      "3                           4070.000172   \n",
      "4                           4250.000000   \n",
      "...                                 ...   \n",
      "2431                       11020.000460   \n",
      "2432                       10340.000150   \n",
      "2433                       12380.000110   \n",
      "2434                       11760.000230   \n",
      "2435                                NaN   \n",
      "\n",
      "      Renewables (% equivalent primary energy)  gdp_growth  gdp_per_capita  \\\n",
      "0                                          NaN    6.946217     1126.683340   \n",
      "1                                          NaN    8.293313     1281.659826   \n",
      "2                                          NaN    4.536524     1425.124219   \n",
      "3                                          NaN    5.528637     1846.120121   \n",
      "4                                          NaN    5.514668     2373.581292   \n",
      "...                                        ...         ...             ...   \n",
      "2431                                       NaN    0.755869     1464.588957   \n",
      "2432                                       NaN    4.709492     1235.189032   \n",
      "2433                                       NaN    4.824211     1254.642265   \n",
      "2434                                       NaN   -6.144236     1316.740657   \n",
      "2435                                       NaN   -6.248748     1214.509820   \n",
      "\n",
      "      Density\\n(P/Km2)  Land Area(Km2)   Latitude  Longitude  \n",
      "0                  105         28748.0  41.153332  20.168331  \n",
      "1                  105         28748.0  41.153332  20.168331  \n",
      "2                  105         28748.0  41.153332  20.168331  \n",
      "3                  105         28748.0  41.153332  20.168331  \n",
      "4                  105         28748.0  41.153332  20.168331  \n",
      "...                ...             ...        ...        ...  \n",
      "2431                38        390757.0 -19.015438  29.154857  \n",
      "2432                38        390757.0 -19.015438  29.154857  \n",
      "2433                38        390757.0 -19.015438  29.154857  \n",
      "2434                38        390757.0 -19.015438  29.154857  \n",
      "2435                38        390757.0 -19.015438  29.154857  \n",
      "\n",
      "[2436 rows x 84 columns]\n"
     ]
    }
   ],
   "source": [
    "print(\"\\nTable 2 (Surface Temps and Global Data) before dropping missing values:\")\n",
    "print(table2)  # or display the full table with print(table2)"
   ]
  },
  {
   "cell_type": "code",
   "execution_count": null,
   "id": "fdeac47e-6f06-4a16-8030-c5029239128a",
   "metadata": {},
   "outputs": [],
   "source": []
  }
 ],
 "metadata": {
  "kernelspec": {
   "display_name": "Python 3 (ipykernel)",
   "language": "python",
   "name": "python3"
  },
  "language_info": {
   "codemirror_mode": {
    "name": "ipython",
    "version": 3
   },
   "file_extension": ".py",
   "mimetype": "text/x-python",
   "name": "python",
   "nbconvert_exporter": "python",
   "pygments_lexer": "ipython3",
   "version": "3.10.14"
  }
 },
 "nbformat": 4,
 "nbformat_minor": 5
}
